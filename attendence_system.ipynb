{
 "cells": [
  {
   "cell_type": "code",
   "execution_count": 1,
   "metadata": {},
   "outputs": [],
   "source": [
    "#importing required libraries\n",
    "\n",
    "import face_recognition as fc\n",
    "import cv2\n",
    "import numpy as np\n",
    "import pandas as pd\n",
    "import time\n"
   ]
  },
  {
   "cell_type": "code",
   "execution_count": 2,
   "metadata": {},
   "outputs": [],
   "source": [
    "# let's store students details in our csv file.\n",
    "\n",
    "#So, it will only recognize the person whose data entry is stored in csv file.\n",
    "\n",
    "# Here, i am importing face_recognition library for recognizing the face and storing path of student picture and their face encodings \n",
    "#So that we can comapre live student encoding with the encodings stored in database or csv file.\n",
    "i=fc.load_image_file(\"harshitaa.jpg\")\n",
    "j=fc.load_image_file(\"himanshu.jpg\")\n",
    "k=fc.load_image_file(\"sarika.jpg\")\n",
    "l=fc.load_image_file(\"aman.jpg\")\n",
    "\n",
    "fla=fc.face_locations(i)\n",
    "flb=fc.face_locations(j)\n",
    "flc=fc.face_locations(k)\n",
    "fld=fc.face_locations(l)\n",
    "\n",
    "e1=fc.face_encodings(i,fla)[0]\n",
    "e2=fc.face_encodings(j,flb)[0]\n",
    "e3=fc.face_encodings(k,flc)[0]\n",
    "e4=fc.face_encodings(l,fld)[0]\n",
    "\n",
    "#students name\n",
    "n1='harshita'\n",
    "n2='himanshu'\n",
    "n3='sarika'\n",
    "n4='aman'\n",
    "\n",
    "# students photos path\n",
    "p1='harshitaa.jpg'\n",
    "p2='himanshu.jpg'\n",
    "p3='sarika.jpg'\n",
    "p4='aman.jpg'\n",
    "\n",
    "#students mail id\n",
    "id1='harshitaagrwl15@gmail.com'\n",
    "id2='himanshusurana7@gmail.com'\n",
    "id3='sarikaagarwal324@gmail.com'\n",
    "id4='abhayagarwal4483@gmail.com'\n",
    "\n",
    "id=[id1,id2,id3,id4]"
   ]
  },
  {
   "cell_type": "code",
   "execution_count": 3,
   "metadata": {},
   "outputs": [],
   "source": [
    "\n",
    "# strftime function is used to mark the the attendence at exact date and time \n",
    "\n",
    "d=time.strftime(\"%d/%m/%Y\")\n",
    "t=time.strftime(\"%H:%M:%S\")\n",
    "\n"
   ]
  },
  {
   "cell_type": "code",
   "execution_count": 4,
   "metadata": {},
   "outputs": [],
   "source": [
    "#Now we are storing student details in Dictionary. Also, initially we are marking every student is Absent 'A'. As, soon it's image is captured , 'A' is replaced by 'P' and present is marked and store in csv file.\n",
    "\n",
    "details = {'name':[n1,n2,n3,n4],'path':[p1,p2,p3,p4],'encoding':[e1,e2,e3,e4],'date':[d,d,d,d],'time':[t,t,t,t],'attendence':['A','A','A','A'],'emailid':[id1,id2,id3,id4]}\n",
    "\n",
    "# Now, we are converting the dictionary where student details are stored in dataframe.\n",
    "# SO,DataFrame is nothing but an in-memory representation of an excel sheet via Python programming language\n",
    "\n",
    "student=pd.DataFrame(details,columns = ['name','path','encoding','date','time','attendence','emailid'])\n"
   ]
  },
  {
   "cell_type": "code",
   "execution_count": 5,
   "metadata": {},
   "outputs": [],
   "source": [
    "# Now we are sending all the above student details to 'attendence_report.csv' file.\n",
    "#if it is not created, then it will automatically created as soon this program run and interpreter reach to this line.\n",
    "data = student.to_csv('attendence_report.csv')\n"
   ]
  },
  {
   "cell_type": "code",
   "execution_count": 6,
   "metadata": {},
   "outputs": [
    {
     "name": "stdout",
     "output_type": "stream",
     "text": [
      "enter any key to start the camera \n"
     ]
    }
   ],
   "source": [
    "#Now, we are asking student to press any key to start the camera.\n",
    "ask=input(\"enter any key to start the camera \")\n"
   ]
  },
  {
   "cell_type": "code",
   "execution_count": 7,
   "metadata": {},
   "outputs": [
    {
     "name": "stdout",
     "output_type": "stream",
     "text": [
      "[True, False, False, False]\n",
      "harshita\n",
      "[True, False, False, False]\n",
      "harshita\n",
      "[True, False, False, False]\n",
      "harshita\n",
      "[True, False, False, False]\n",
      "harshita\n",
      "[True, False, False, False]\n",
      "harshita\n",
      "[True, False, False, False]\n",
      "harshita\n",
      "[True, False, False, False]\n",
      "harshita\n",
      "[True, False, False, False]\n",
      "harshita\n",
      "[True, False, False, False]\n",
      "harshita\n",
      "[True, False, False, False]\n",
      "harshita\n"
     ]
    }
   ],
   "source": [
    "#Now, we capturing the student from camera.\n",
    "#And we are using in built camera for capturing the live image, that's why 0 is written\n",
    "# If you want to use yor mobile camera for capturing the live image then, instead of writting 0, we can use webcam app and use its ip\n",
    "v=cv2.VideoCapture(0)\n",
    "\n",
    "e=[e1,e2,e3,e4]\n",
    "name=[n1,n2,n3,n4]\n",
    "\n",
    "while True:\n",
    "    \n",
    "    r,live=v.read()\n",
    "    fL=fc.face_locations(live)\n",
    "    if(len(fL)>0):\n",
    "        \n",
    "        [x1,y1,x2,y2]=fL[0]\n",
    "        cv2.rectangle(live,(y2,x1),(y1,x2),(0,0,255),5)\n",
    "        E=fc.face_encodings(live,fL)[0]\n",
    "        res=fc.compare_faces(e,E)\n",
    "        print(res)\n",
    "        r=True in res\n",
    "        if r==True:\n",
    "            print(name[res.index(True)])\n",
    "            cv2.putText(live,name[res.index(True)],(y2,x1),cv2.FONT_HERSHEY_SIMPLEX,1.0,(200,255,255))\n",
    "        \n",
    "        cv2.imshow('image',live)\n",
    "        \n",
    "        k=cv2.waitKey(5)\n",
    "        \n",
    "        if(k==ord('q')):\n",
    "            cv2.destroyAllWindows()\n",
    "            break\n",
    "\n"
   ]
  },
  {
   "cell_type": "code",
   "execution_count": 8,
   "metadata": {},
   "outputs": [
    {
     "name": "stdout",
     "output_type": "stream",
     "text": [
      "   Unnamed: 0      name           path  \\\n",
      "0           0  harshita  harshitaa.jpg   \n",
      "1           1  himanshu   himanshu.jpg   \n",
      "2           2    sarika     sarika.jpg   \n",
      "3           3      aman       aman.jpg   \n",
      "\n",
      "                                            encoding        date      time  \\\n",
      "0  [-1.03885747e-01  2.84479465e-02  4.19965498e-...  14/07/2020  15:29:28   \n",
      "1  [-0.15221842  0.09242808  0.04709347 -0.051602...  14/07/2020  15:29:28   \n",
      "2  [-0.11239724  0.07830264  0.00492937 -0.031461...  14/07/2020  15:29:28   \n",
      "3  [-0.17491132  0.05644989  0.08867725 -0.062874...  14/07/2020  15:29:28   \n",
      "\n",
      "  attendence                     emailid  \n",
      "0          P   harshitaagrwl15@gmail.com  \n",
      "1          A   himanshusurana7@gmail.com  \n",
      "2          A  sarikaagarwal324@gmail.com  \n",
      "3          A  abhayagarwal4483@gmail.com  \n"
     ]
    }
   ],
   "source": [
    "#for marking attendence\n",
    "        \n",
    "df=pd.read_csv(\"attendence_report.csv\")\n",
    "\n",
    "for live in range(len(df['name'])):\n",
    "    df.loc[live,'name']=name[live]\n",
    "df.loc[res.index(True),\"attendence\"]='P'\n",
    "print(df)\n",
    "pd.DataFrame(df,index=[0,1,2,3])\n",
    "df.to_csv(\"attendence_report.csv\",index=False)\n",
    "\n"
   ]
  },
  {
   "cell_type": "code",
   "execution_count": 9,
   "metadata": {},
   "outputs": [],
   "source": [
    "\n",
    "#importing libraries for sending mail\n",
    "\n",
    "import smtplib\n",
    "from email.mime.multipart import MIMEMultipart\n",
    "from email.mime.text import MIMEText\n",
    "from email.mime.base import MIMEBase\n",
    "from email import encoders\n"
   ]
  },
  {
   "cell_type": "code",
   "execution_count": 10,
   "metadata": {},
   "outputs": [
    {
     "name": "stdout",
     "output_type": "stream",
     "text": [
      "Mail Sent\n"
     ]
    }
   ],
   "source": [
    "mail_content = \"Attendence Report\"\n",
    "\n",
    "#The mail addresses and password\n",
    "sender_address = 'harshitaagarwal330@gmail.com'\n",
    "sender_pass = input('enter password')\n",
    "receiver_address = 'harshitaagrwl15@gmail.com'\n",
    "\n",
    "#Setup the MIME\n",
    "message = MIMEMultipart()\n",
    "\n",
    "message['From'] = 'harshitaagarwal330.com'\n",
    "message['To'] = 'harshitaagrwl15@gmail.com'\n",
    "\n",
    "message['Subject'] = \"Today's Attendence Report\"\n",
    "\n",
    "#The body and the attachments for the mail\n",
    "message.attach(MIMEText(mail_content, 'plain'))\n",
    "attach_file_name = 'attendence_report.csv'\n",
    "\n",
    "# Open the file as binary mode\n",
    "\n",
    "attach_file = open(attach_file_name, 'rb') \n",
    "payload = MIMEBase('application', 'octate-stream')\n",
    "payload.set_payload((attach_file).read())\n",
    "\n",
    "#encode the attachment\n",
    "\n",
    "encoders.encode_base64(payload)\n",
    "\n",
    "#add payload header with filename\n",
    "payload.add_header('Content-Decomposition', 'attachment', filename=attach_file_name)\n",
    "message.attach(payload)\n",
    "\n",
    "#Create SMTP session for sending the mail\n",
    "session = smtplib.SMTP('smtp.gmail.com', 587) #use gmail with port\n",
    "session.starttls() #enable security\n",
    "session.login(sender_address, sender_pass) #login with mail_id and password\n",
    "text = message.as_string()\n",
    "session.sendmail(sender_address, receiver_address, text)\n",
    "session.quit()\n",
    "print('Mail Sent')\n",
    "    \n"
   ]
  }
 ],
 "metadata": {
  "kernelspec": {
   "display_name": "Python 3",
   "language": "python",
   "name": "python3"
  },
  "language_info": {
   "codemirror_mode": {
    "name": "ipython",
    "version": 3
   },
   "file_extension": ".py",
   "mimetype": "text/x-python",
   "name": "python",
   "nbconvert_exporter": "python",
   "pygments_lexer": "ipython3",
   "version": "3.7.1"
  }
 },
 "nbformat": 4,
 "nbformat_minor": 2
}
